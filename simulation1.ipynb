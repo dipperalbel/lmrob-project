{
 "cells": [
  {
   "cell_type": "code",
   "execution_count": null,
   "metadata": {},
   "outputs": [],
   "source": [
    "from lmrob import *\n",
    "\n",
    "x = np.array([50,51,52,53,54,55,56,57,58,59,60,61,62,63,64,65,66,67,68,69,70,71,72,73])\n",
    "y = np.array([0.44,0.47,0.47,0.59,0.66,0.73,0.81,0.88,1.06,1.20,1.35,1.49,1.61,2.12,11.9,12.4,14.2,15.9,18.2,21.2,4.30,2.40,2.70,2.90])\n",
    "data = {\"x\" : x,\n",
    "        \"y\" : y\n",
    "}\n",
    "formula = 'y ~ x'\n",
    "    # S Method\n",
    "m0 = lmrob(formula, data=data, method=\"S\")\n",
    "print(\"---------S-Residuals---------\")\n",
    "print(m0.get('residuals'))\n",
    "m1 = lmrob(formula, data=data, method=\"MM\")\n",
    "print(\"---------MM-Residuals---------\")\n",
    "print(m1.get('residuals'))"
   ]
  }
 ],
 "metadata": {
  "kernelspec": {
   "display_name": "Python 3",
   "language": "python",
   "name": "python3"
  },
  "language_info": {
   "codemirror_mode": {
    "name": "ipython",
    "version": 3
   },
   "file_extension": ".py",
   "mimetype": "text/x-python",
   "name": "python",
   "nbconvert_exporter": "python",
   "pygments_lexer": "ipython3",
   "version": "3.6.7"
  }
 },
 "nbformat": 4,
 "nbformat_minor": 2
}
